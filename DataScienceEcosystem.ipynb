{
 "cells": [
  {
   "cell_type": "markdown",
   "id": "968897d8-db97-4794-8659-ff16aca6908f",
   "metadata": {},
   "source": [
    "# Data Science Tools and Ecosystem"
   ]
  },
  {
   "cell_type": "markdown",
   "id": "bc288393-13bd-42a1-a615-ce34f3b28ce7",
   "metadata": {},
   "source": [
    "**Objective :**\n",
    "- List popular languages for Data Science.\n",
    "- Explore commonly used Data Science libraries and tools.\n",
    "- Understand the importance of Jupyter Notebook in Data Science workflows."
   ]
  },
  {
   "cell_type": "markdown",
   "id": "aac1fb9a-e9c8-4a37-b4d9-f9dcd9bf2da1",
   "metadata": {},
   "source": [
    "In this notebook, Data Science Tools and Ecosystem are summarized."
   ]
  },
  {
   "cell_type": "markdown",
   "id": "ba230188-f2c0-4778-a66c-15365a7a9d8b",
   "metadata": {},
   "source": [
    "Some of the popular languages that Data Scientists use are:\n",
    "1. SQL\n",
    "2. R\n",
    "3. Python\n"
   ]
  },
  {
   "cell_type": "markdown",
   "id": "ef92705d-e3c4-4504-bccc-e859b26b1f19",
   "metadata": {},
   "source": [
    "Some of the commonly used libraries used by Data Scientists include:\n",
    "1. Java\n",
    "2. Julia\n",
    "3. Scala"
   ]
  },
  {
   "cell_type": "markdown",
   "id": "b75b13b7-2459-4f37-99ad-082d5023fd06",
   "metadata": {},
   "source": [
    "| Data Science Tools |\n",
    "| ------------------ |\n",
    "| Jupyter Notebook |\n",
    "| RStudio |\n",
    "|Apache Zeppelin |"
   ]
  },
  {
   "cell_type": "markdown",
   "id": "c72f5aeb-e8f2-4c97-aacb-e63cfc1ba078",
   "metadata": {},
   "source": [
    "### Below are a few examples of evaluating arithmetic expressions in Python"
   ]
  },
  {
   "cell_type": "code",
   "execution_count": 17,
   "id": "c6bbe9b6-3783-42b9-9fd6-988a6d330824",
   "metadata": {},
   "outputs": [
    {
     "data": {
      "text/plain": [
       "17"
      ]
     },
     "execution_count": 17,
     "metadata": {},
     "output_type": "execute_result"
    }
   ],
   "source": [
    "# This a simple arithmetic expression to mutiply then add integers\n",
    "(3*4)+5"
   ]
  },
  {
   "cell_type": "code",
   "execution_count": 19,
   "id": "127e7f0e-c812-460a-839a-cfde2b9ee556",
   "metadata": {},
   "outputs": [
    {
     "data": {
      "text/plain": [
       "3.3333333333333335"
      ]
     },
     "execution_count": 19,
     "metadata": {},
     "output_type": "execute_result"
    }
   ],
   "source": [
    "# This will convert 200 minutes to hours by diving by 60\n",
    "200/60"
   ]
  },
  {
   "cell_type": "markdown",
   "id": "37691caa-cf6b-4128-8055-e24628cf47f3",
   "metadata": {},
   "source": [
    "## Author\n",
    "Bondy\n"
   ]
  },
  {
   "cell_type": "code",
   "execution_count": null,
   "id": "944410e8-179c-46c6-b737-e1cd17b8f4a7",
   "metadata": {},
   "outputs": [],
   "source": []
  }
 ],
 "metadata": {
  "kernelspec": {
   "display_name": "Python [conda env:base] *",
   "language": "python",
   "name": "conda-base-py"
  },
  "language_info": {
   "codemirror_mode": {
    "name": "ipython",
    "version": 3
   },
   "file_extension": ".py",
   "mimetype": "text/x-python",
   "name": "python",
   "nbconvert_exporter": "python",
   "pygments_lexer": "ipython3",
   "version": "3.12.7"
  }
 },
 "nbformat": 4,
 "nbformat_minor": 5
}
